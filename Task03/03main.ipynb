{
 "cells": [
  {
   "cell_type": "code",
   "execution_count": 14,
   "metadata": {},
   "outputs": [
    {
     "name": "stdout",
     "output_type": "stream",
     "text": [
      "Loaded 25000 images from dogs-vs-cats/train\n",
      "Loaded 12500 images from dogs-vs-cats/test1\n",
      "Train images shape: (25000, 64, 64)\n",
      "Test images shape: (12500, 64, 64)\n",
      "Train images flattened shape: (25000, 4096)\n",
      "Test images flattened shape: (12500, 4096)\n"
     ]
    }
   ],
   "source": [
    "import os\n",
    "import cv2\n",
    "import numpy as np\n",
    "\n",
    "def load_images_from_folder(folder, img_size=(64, 64)):\n",
    "    images = []\n",
    "    labels = []\n",
    "    for filename in os.listdir(folder):\n",
    "        img_path = os.path.join(folder, filename)\n",
    "        img = cv2.imread(img_path)\n",
    "        if img is not None:\n",
    "            img = cv2.resize(img, img_size)\n",
    "            img = cv2.cvtColor(img, cv2.COLOR_BGR2GRAY)  # Convert to grayscale\n",
    "            images.append(img)\n",
    "            # Assign label based on filename\n",
    "            if 'cat' in filename:\n",
    "                labels.append(0)\n",
    "            elif 'dog' in filename:\n",
    "                labels.append(1)\n",
    "        else:\n",
    "            print(f\"Failed to read image: {img_path}\")\n",
    "    print(f\"Loaded {len(images)} images from {folder}\")\n",
    "    return images, labels\n",
    "\n",
    "def load_dataset(data_dir):\n",
    "    images, labels = load_images_from_folder(data_dir)\n",
    "    if len(images) == 0:\n",
    "        print(f\"No images found in {data_dir}. Please check the path.\")\n",
    "    return np.array(images), np.array(labels)\n",
    "\n",
    "# Load train and test datasets\n",
    "train_images, train_labels = load_dataset('dogs-vs-cats/train')\n",
    "test_images, test_labels = load_dataset('dogs-vs-cats/test1')\n",
    "\n",
    "# Check if any images were loaded\n",
    "print(f\"Train images shape: {train_images.shape}\")\n",
    "print(f\"Test images shape: {test_images.shape}\")\n",
    "\n",
    "if train_images.size == 0 or test_images.size == 0:\n",
    "    raise ValueError(\"No images loaded. Please check the dataset path and file permissions.\")\n"
   ]
  },
  {
   "cell_type": "code",
   "execution_count": null,
   "metadata": {},
   "outputs": [],
   "source": [
    "# Normalize the images\n",
    "train_images = train_images / 255.0\n",
    "test_images = test_images / 255.0\n",
    "\n",
    "# Flatten the images for the SVM\n",
    "train_images_flattened = train_images.reshape(len(train_images), -1)\n",
    "test_images_flattened = test_images.reshape(len(test_images), -1)\n",
    "\n",
    "print(f\"Train images flattened shape: {train_images_flattened.shape}\")\n",
    "print(f\"Test images flattened shape: {test_images_flattened.shape}\")\n"
   ]
  },
  {
   "cell_type": "code",
   "execution_count": null,
   "metadata": {},
   "outputs": [],
   "source": [
    "from sklearn.model_selection import train_test_split\n",
    "from sklearn.svm import SVC\n",
    "from sklearn.metrics import classification_report, accuracy_score\n",
    "\n",
    "# Split the training data into training and validation sets\n",
    "X_train, X_val, y_train, y_val = train_test_split(train_images_flattened, train_labels, test_size=0.2, random_state=42)\n",
    "\n",
    "# Train the SVM model\n",
    "svm_model = SVC(kernel='linear')\n",
    "svm_model.fit(X_train, y_train)\n",
    "\n",
    "# Validate the model\n",
    "y_val_pred = svm_model.predict(X_val)\n",
    "print(\"Validation Accuracy:\", accuracy_score(y_val, y_val_pred))\n",
    "print(\"Classification Report:\\n\", classification_report(y_val, y_val_pred))\n"
   ]
  },
  {
   "cell_type": "code",
   "execution_count": null,
   "metadata": {},
   "outputs": [],
   "source": [
    "# Evaluate the model on the test set\n",
    "y_test_pred = svm_model.predict(test_images_flattened)\n",
    "print(\"Test Accuracy:\", accuracy_score(test_labels, y_test_pred))\n",
    "print(\"Classification Report:\\n\", classification_report(test_labels, y_test_pred))\n",
    "\n",
    "import matplotlib.pyplot as plt\n",
    "\n",
    "def plot_sample_images(images, labels, predictions=None):\n",
    "    plt.figure(figsize=(10, 10))\n",
    "    for i in range(25):\n",
    "        plt.subplot(5, 5, i + 1)\n",
    "        plt.xticks([])\n",
    "        plt.yticks([])\n",
    "        plt.grid(False)\n",
    "        plt.imshow(images[i], cmap=plt.cm.binary)\n",
    "        if predictions is None:\n",
    "            plt.xlabel(\"Actual: \" + str(labels[i]))\n",
    "        else:\n",
    "            plt.xlabel(f\"Actual: {labels[i]} Pred: {predictions[i]}\")\n",
    "    plt.show()\n",
    "\n",
    "# Plot some test images along with their predictions\n",
    "plot_sample_images(test_images, test_labels, y_test_pred)\n"
   ]
  }
 ],
 "metadata": {
  "kernelspec": {
   "display_name": "Python 3",
   "language": "python",
   "name": "python3"
  },
  "language_info": {
   "codemirror_mode": {
    "name": "ipython",
    "version": 3
   },
   "file_extension": ".py",
   "mimetype": "text/x-python",
   "name": "python",
   "nbconvert_exporter": "python",
   "pygments_lexer": "ipython3",
   "version": "3.10.9"
  }
 },
 "nbformat": 4,
 "nbformat_minor": 2
}
